{
 "cells": [
  {
   "cell_type": "markdown",
   "id": "2c9b49cf",
   "metadata": {},
   "source": [
    "# Linear Regression without Gradient descent"
   ]
  },
  {
   "cell_type": "code",
   "execution_count": 4,
   "id": "10c275d2",
   "metadata": {},
   "outputs": [],
   "source": [
    "import numpy as np\n",
    "\n",
    "class LR:\n",
    "    \n",
    "    def __init__(self):\n",
    "        self.coef_ = None\n",
    "        self.intercept_ = None\n",
    "        \n",
    "    def fit(self, X_train, Y_train):\n",
    "    \n",
    "        X_train = np.insert(X_train, 0,1, axis = 1)\n",
    "        betas = np.linalg.inv(np.dot(X_train.T, X_train)).dot(X_train.T).dot(Y_train)\n",
    "        self.intercept_ = betas[0]\n",
    "        self.coef_ = betas[1:]\n",
    "        \n",
    "    def predict(X_test):\n",
    "        \n",
    "        Y_pred = np.dot(self.coef_, X_test) + self.intercept_\n",
    "        return Y_pred"
   ]
  },
  {
   "cell_type": "markdown",
   "id": "d2eedaf9",
   "metadata": {},
   "source": [
    "# With Batch Gradient Descent"
   ]
  },
  {
   "cell_type": "code",
   "execution_count": 5,
   "id": "1673602e",
   "metadata": {},
   "outputs": [],
   "source": [
    "class BatchLR:\n",
    "    \n",
    "    def __init__(learning_rate = 0.1, epochs = 100):\n",
    "        \n",
    "        #initializing hyperparameters\n",
    "        self.learning_rate = learning_rate\n",
    "        self.epochs = epochs\n",
    "        \n",
    "    def fit(self, X_train, Y_train):\n",
    "        \n",
    "        # extracting rows and cols\n",
    "        self.m, self.n = X_train.shape\n",
    "        \n",
    "        # initializing weights and offset\n",
    "        self.w = np.zeros(self.n)\n",
    "        self.b = 0\n",
    "        \n",
    "        #updating weights and offset values\n",
    "        for i in range(epochs):\n",
    "            Y_hat = np.dot(X_train, self.w) + self.b\n",
    "            db = -2*np.mean(Y_train-Y_hat)\n",
    "            self.b = self.b - learning_rate*db\n",
    "            \n",
    "            dl = np.dot((Y_train-Y_hat), X_train)*(-2/m)\n",
    "            self.w = self.w - learning_rate*dl\n",
    "    \n",
    "    # prediciting values       \n",
    "    def predict(self,X):\n",
    "        \n",
    "        Y_pred = np.dot(X, self.w)+b\n",
    "        return Y_pred\n",
    "    \n",
    "    \n",
    "    "
   ]
  },
  {
   "cell_type": "markdown",
   "id": "103dc3f1",
   "metadata": {},
   "source": [
    "# With Stochastic Gradient Descent"
   ]
  },
  {
   "cell_type": "code",
   "execution_count": 6,
   "id": "afda9c5f",
   "metadata": {},
   "outputs": [],
   "source": [
    "class StochLR:\n",
    "    \n",
    "    def __init__(self, learning_rate = 0.1, epochs = 100):\n",
    "        \n",
    "        # initializing hyperparameters\n",
    "        self.learning_rate = learning_rate\n",
    "        self.epochs = epochs\n",
    "        \n",
    "    \n",
    "    def fit(self, X_train, Y_train):\n",
    "        \n",
    "        # extracting rows and cols\n",
    "        self.m, self.n = X_train.shape\n",
    "        self.w = np.zeros(self.n)\n",
    "        self.b = 0\n",
    "        \n",
    "        #updating weights and offset\n",
    "        for i in range(epochs):\n",
    "            \n",
    "            for j in range(X_train.shape[0]):\n",
    "                \n",
    "                #generating a random index number\n",
    "                idx = np.random.randint(X_train.shape[0])\n",
    "                \n",
    "                Y_hat = np.dot(X_train[idx], self.w) + self.b\n",
    "                db = -2*(Y_train[idx]-Y_hat)\n",
    "                self.b = self.b - learning_rate*db\n",
    "                \n",
    "                dl = np.dot((Y_train[idx]-Y_hat), X_train[idx])*(-2)\n",
    "                self.w = self.w - learning_rate*dl\n",
    "                \n",
    "                \n",
    "        print(self.w, self.b)      \n",
    "            \n",
    "    #predicting values   \n",
    "    def predict(self,X):\n",
    "        \n",
    "        Y_pred = np.dot(X, self.w)+b\n",
    "        return Y_pred"
   ]
  },
  {
   "cell_type": "markdown",
   "id": "174deee4",
   "metadata": {},
   "source": [
    "# With Mini Batch Gradient Descent"
   ]
  },
  {
   "cell_type": "code",
   "execution_count": 7,
   "id": "be60a7f4",
   "metadata": {},
   "outputs": [],
   "source": [
    "class MiniBatchLR:\n",
    "    \n",
    "    def __init__(self,batch_size,learning_rate = 0.1, epochs = 100):\n",
    "        \n",
    "        # initializing hyperparmeters\n",
    "        self.learning_rate = learning_rate\n",
    "        self.epochs = epochs\n",
    "        self.batch_size = batch_size\n",
    "        \n",
    "    def fit(self, X_train, Y_train):\n",
    "        \n",
    "        # extracting rows and cols\n",
    "        self.m, self.n = X_train.shape\n",
    "        \n",
    "        # initializing weights and offset\n",
    "        self.w = np.zeros(self.n)\n",
    "        self.b = 0\n",
    "        \n",
    "        # updating w and b\n",
    "        for i in range(epochs):\n",
    "            \n",
    "            for j in range(X_train.shape[0]/self.batch_size):\n",
    "                idx = random.sample(range(X_train.shape[0]), self.batch_size)\n",
    "                \n",
    "                Y_hat = np.dot(X_train[idx], self.w) + self.b\n",
    "                db = -2*np.mean(Y_train[idx]-Y_hat)\n",
    "                self.b = self.b - learning_rate*db\n",
    "                \n",
    "                dl = np.dot((Y_train[idx]-Y_hat), X_train[idx])*(-2)\n",
    "                self.w = self.w - learning_rate*dl\n",
    "                \n",
    "                \n",
    "        print(self.w, self.b)      \n",
    "            \n",
    "    # predicting values       \n",
    "    def predict(self,X):\n",
    "        \n",
    "        Y_pred = np.dot(X, self.w)+b\n",
    "        return Y_pred"
   ]
  }
 ],
 "metadata": {
  "kernelspec": {
   "display_name": "Python 3 (ipykernel)",
   "language": "python",
   "name": "python3"
  },
  "language_info": {
   "codemirror_mode": {
    "name": "ipython",
    "version": 3
   },
   "file_extension": ".py",
   "mimetype": "text/x-python",
   "name": "python",
   "nbconvert_exporter": "python",
   "pygments_lexer": "ipython3",
   "version": "3.9.12"
  }
 },
 "nbformat": 4,
 "nbformat_minor": 5
}
