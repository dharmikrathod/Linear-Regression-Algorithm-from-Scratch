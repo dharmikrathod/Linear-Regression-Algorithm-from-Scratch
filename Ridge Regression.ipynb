{
 "cells": [
  {
   "cell_type": "code",
   "execution_count": 2,
   "id": "0c869ede",
   "metadata": {},
   "outputs": [],
   "source": [
    "import numpy as np\n",
    "\n",
    "class RidgeRegression:\n",
    "    \n",
    "    def __init__(self, alpha =0.01):\n",
    "        \n",
    "        self.alpha = alpha\n",
    "        self.coeff = None\n",
    "        self.intercept = None\n",
    "        \n",
    "    def fit(self, X_train, Y_train):\n",
    "        \n",
    "        X_train = np.insert(X_train,0,1)\n",
    "        I = np.identity(X_train.shape[1])\n",
    "        I[0][0] = 0\n",
    "        result = np.linalg.inv(np.dot(X_train.T,X_train) + self.alpha*I).dot(X_train.T).dot(Y_train)\n",
    "        self.coeff = result[1:]\n",
    "        self.intercept = result[0]\n",
    "        \n",
    "        print(self.coeff, self.intercept)\n",
    "        \n",
    "    def predict(self, X_test):\n",
    "        \n",
    "        return np.dot(self.coeff, X_test) + self.intercept"
   ]
  },
  {
   "cell_type": "markdown",
   "id": "1d0d2fd1",
   "metadata": {},
   "source": [
    "# With Gradient Descent"
   ]
  },
  {
   "cell_type": "code",
   "execution_count": 3,
   "id": "76ace414",
   "metadata": {},
   "outputs": [],
   "source": [
    "class Grad_Ridge:\n",
    "    \n",
    "    def __init__(self, alpha = 0.1, learning_rate = 0.01, epochs = 10):\n",
    "        \n",
    "        self.alpha = alpha\n",
    "        self.learning_rate = learning_rate\n",
    "        self.epochs = epochs\n",
    "        self.coeff = None\n",
    "        self.intercept = None\n",
    "        \n",
    "    def fit(self, X_train, Y_train):\n",
    "        \n",
    "        self.coeff = np.ones(X_train.shape[0])\n",
    "        self.intercept = 0\n",
    "        theta = np.insert(self.coeff, 0,self.intercept)\n",
    "        \n",
    "        for i in epochs:\n",
    "            \n",
    "            dw = np.dot(X_train.T, X).dot(theta) - np.dot(X_train, Y_train)+ self.alpha*theta\n",
    "            theta = theta - self.learning_rate*dw\n",
    "            \n",
    "        self.coeff = theta[1:]\n",
    "        self.intercept = theta[0]\n",
    "        \n",
    "    def predict(self, X_test):\n",
    "        \n",
    "        return np.dot(X_test, self.coeff)+ self.intercept"
   ]
  },
  {
   "cell_type": "code",
   "execution_count": null,
   "id": "67190770",
   "metadata": {},
   "outputs": [],
   "source": []
  }
 ],
 "metadata": {
  "kernelspec": {
   "display_name": "Python 3 (ipykernel)",
   "language": "python",
   "name": "python3"
  },
  "language_info": {
   "codemirror_mode": {
    "name": "ipython",
    "version": 3
   },
   "file_extension": ".py",
   "mimetype": "text/x-python",
   "name": "python",
   "nbconvert_exporter": "python",
   "pygments_lexer": "ipython3",
   "version": "3.9.12"
  }
 },
 "nbformat": 4,
 "nbformat_minor": 5
}
